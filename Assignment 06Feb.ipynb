{
 "cells": [
  {
   "cell_type": "markdown",
   "id": "971f268c-8019-40c2-aa81-17f5f77fa17d",
   "metadata": {},
   "source": [
    "Q.1. Create a function which will take a list as an argument and return the product of all the numbers after creating a flat list.\n",
    "\n",
    "Use the below-given list as an argument for your function. \n",
    "\n",
    "list1 = [1,2,3,4, [44,55,66, True], False, (34,56,78,89,34), {1,2,3,3,2,1}, {1:34, \"key2\": [55, 67, 78, 89], 4: (45, 22, 61, 34)}, [56, 'data science'], 'Machine Learning']"
   ]
  },
  {
   "cell_type": "code",
   "execution_count": 1,
   "id": "c1275010-4668-44a7-b7ab-a3c6af37b476",
   "metadata": {},
   "outputs": [
    {
     "name": "stdout",
     "output_type": "stream",
     "text": [
      "2315262738624675840\n"
     ]
    }
   ],
   "source": [
    "def number(lst):\n",
    "    n_list = []\n",
    "    def no1(lst):\n",
    "        for i in lst:\n",
    "            if type(i) == list or type(i) == tuple or type(i) == set or type(i) == dict:\n",
    "                no1(i)\n",
    "            elif type(i) == int or type(i) == float:\n",
    "                n_list.append(i)\n",
    "    no1(lst)\n",
    "    product = 1\n",
    "    for j in n_list:\n",
    "        product *= j\n",
    "    return product\n",
    "l1 = [1,2,3,4, [44,55,66, True], False, (34,56,78,89,34), {1,2,3,3,2,1}, {1:34, \"key2\": [55, 67, 78, 89], 4: (45, 22, 61, 34)}, [56, 'data science'], 'Machine Learning']\n",
    "print(number(l1))     "
   ]
  },
  {
   "cell_type": "markdown",
   "id": "495de408-66dd-42d5-829d-7ac226e89fab",
   "metadata": {},
   "source": [
    "Q2. Write a python program for encrypting a message sent to you by your friend. The logic of encryption should be such that, for a the output should be z. For b, the output should be y. For c, the output should be x respectively. Also, the whitespace should be replaced with a dollar sign. Keep the punctuation marks unchanged.\n",
    "Input Sentence: I want to become a Data Scientist.\n",
    "Encrypt the above input sentence using the program you just created.\n",
    "\n",
    "Note: Convert the given input sentence into lowercase before encrypting.The final output should be lowercase."
   ]
  },
  {
   "cell_type": "code",
   "execution_count": 6,
   "id": "e07080a5-67a8-4868-9cf4-08c51800a6a2",
   "metadata": {},
   "outputs": [
    {
     "name": "stdin",
     "output_type": "stream",
     "text": [
      "Enter Your Message :  CVBNM\n"
     ]
    },
    {
     "name": "stdout",
     "output_type": "stream",
     "text": [
      "Message in Lower case :  cvbnm\n",
      "Encrypted message: xeymn\n"
     ]
    }
   ],
   "source": [
    "def encr(msg):\n",
    "    # Map each letter to its encrypted form\n",
    "    mapping = {'a': 'z', 'b': 'y', 'c': 'x', 'd': 'w', 'e': 'v', 'f': 'u', 'g': 't', 'h': 's', 'i': 'r', 'j': 'q',\n",
    "               'k': 'p', 'l': 'o', 'm': 'n', 'n': 'm', 'o': 'l', 'p': 'k', 'q': 'j', 'r': 'i', 's': 'h', 't': 'g',\n",
    "               'u': 'f', 'v': 'e', 'w': 'd', 'x': 'c', 'y': 'b', 'z': 'a', ' ': '$'}\n",
    "\n",
    "    encrypted_message = \"\"\n",
    "    for c in msg:\n",
    "        if c in mapping:\n",
    "            encrypted_message += mapping[c]\n",
    "        else:\n",
    "            encrypted_message += c\n",
    "\n",
    "    return encrypted_message\n",
    "\n",
    "#Inputing Message\n",
    "message = input(\"Enter Your Message : \")\n",
    "#converting message into lowercase\n",
    "m = message.lower()\n",
    "print(\"Message in Lower case : \",m)\n",
    "# Test the encryption\n",
    "encrypted_message = encr(m)\n",
    "print(\"Encrypted message:\", encrypted_message)"
   ]
  },
  {
   "cell_type": "code",
   "execution_count": null,
   "id": "c1eb1db6-47f3-4398-8dfe-9e82cfb908c7",
   "metadata": {},
   "outputs": [],
   "source": []
  }
 ],
 "metadata": {
  "kernelspec": {
   "display_name": "Python 3 (ipykernel)",
   "language": "python",
   "name": "python3"
  },
  "language_info": {
   "codemirror_mode": {
    "name": "ipython",
    "version": 3
   },
   "file_extension": ".py",
   "mimetype": "text/x-python",
   "name": "python",
   "nbconvert_exporter": "python",
   "pygments_lexer": "ipython3",
   "version": "3.10.6"
  }
 },
 "nbformat": 4,
 "nbformat_minor": 5
}
